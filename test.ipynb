{
 "cells": [
  {
   "cell_type": "code",
   "execution_count": 1,
   "metadata": {},
   "outputs": [
    {
     "name": "stdout",
     "output_type": "stream",
     "text": [
      "2.5\n",
      "Resultado:  01111 Overflow:  0\n"
     ]
    }
   ],
   "source": [
    "from floatingbits.fixed_point import Pure, C1, C2\n",
    "\n",
    "# Crear un número en formato C1\n",
    "number = C1(bits_left=3, bits_right=2, number_representation='01010')\n",
    "\n",
    "# Obtener el valor decimal del número\n",
    "print(number.get_value())\n",
    "\n",
    "# Sumar dos números\n",
    "other_number = C1(bits_left=3, bits_right=2, number_representation='00101')\n",
    "result, overflow = number.add_(number, other_number)\n",
    "print(\"Resultado: \", result, \"Overflow: \", overflow)"
   ]
  },
  {
   "cell_type": "code",
   "execution_count": 6,
   "metadata": {},
   "outputs": [
    {
     "name": "stdout",
     "output_type": "stream",
     "text": [
      "Valor calculado para número positivo: -16\n",
      "Valor calculado para número negativo: -16.0\n",
      "Resolución de test_number: 0.00390625\n",
      "Rango de test_number: [[-256, 127.99609375]]\n"
     ]
    }
   ],
   "source": [
    "# Crear una instancia de C2 con un número positivo\n",
    "positive_number = C2(8, 0, '11110000')\n",
    "print(\"Valor calculado para número positivo:\", positive_number.get_value())\n",
    "\n",
    "# Crear una instancia de C2 con un número negativo\n",
    "negative_number = C2(8, 1, '111100000')\n",
    "print(\"Valor calculado para número negativo:\", negative_number.get_value())\n",
    "\n",
    "# Verificar la resolución y rango\n",
    "test_number = C2(8, 8, '0000000000000000')\n",
    "print(\"Resolución de test_number:\", test_number.resolution)\n",
    "print(\"Rango de test_number:\", test_number.range)\n"
   ]
  },
  {
   "cell_type": "code",
   "execution_count": 1,
   "metadata": {},
   "outputs": [
    {
     "name": "stdout",
     "output_type": "stream",
     "text": [
      "Binary Representation: 1100.101\n"
     ]
    }
   ],
   "source": [
    "def float_to_binary(value, precision):\n",
    "    # Separate the integer part and the fractional part\n",
    "    integer_part = int(value)\n",
    "    fractional_part = value - integer_part\n",
    "    \n",
    "    # Convert the integer part to binary\n",
    "    integer_binary = bin(integer_part).lstrip('0b') if integer_part != 0 else '0'\n",
    "    \n",
    "    # Convert the fractional part to binary\n",
    "    fractional_binary = []\n",
    "    while len(fractional_binary) < precision:\n",
    "        fractional_part *= 2\n",
    "        bit = int(fractional_part)\n",
    "        fractional_binary.append(str(bit))\n",
    "        fractional_part -= bit\n",
    "        if fractional_part == 0:\n",
    "            break\n",
    "    \n",
    "    # Combine both parts\n",
    "    return f\"{integer_binary}.{'' .join(fractional_binary)}\"\n",
    "\n",
    "# Example Usage\n",
    "float_number = 12.625\n",
    "precision = 10\n",
    "binary_representation = float_to_binary(float_number, precision)\n",
    "print(\"Binary Representation:\", binary_representation)\n"
   ]
  }
 ],
 "metadata": {
  "kernelspec": {
   "display_name": "Python 3",
   "language": "python",
   "name": "python3"
  },
  "language_info": {
   "codemirror_mode": {
    "name": "ipython",
    "version": 3
   },
   "file_extension": ".py",
   "mimetype": "text/x-python",
   "name": "python",
   "nbconvert_exporter": "python",
   "pygments_lexer": "ipython3",
   "version": "3.11.9"
  }
 },
 "nbformat": 4,
 "nbformat_minor": 2
}
