{
 "cells": [
  {
   "cell_type": "code",
   "execution_count": 1,
   "metadata": {},
   "outputs": [
    {
     "name": "stdout",
     "output_type": "stream",
     "text": [
      "2.5\n",
      "Resultado:  01111 Overflow:  0\n"
     ]
    }
   ],
   "source": [
    "from floatingbits.fixed_point import Pure, C1, C2\n",
    "\n",
    "# Crear un número en formato C1\n",
    "number = C1(bits_left=3, bits_right=2, number_representation='01010')\n",
    "\n",
    "# Obtener el valor decimal del número\n",
    "print(number.get_value())\n",
    "\n",
    "# Sumar dos números\n",
    "other_number = C1(bits_left=3, bits_right=2, number_representation='00101')\n",
    "result, overflow = number.add_(number, other_number)\n",
    "print(\"Resultado: \", result, \"Overflow: \", overflow)"
   ]
  }
 ],
 "metadata": {
  "kernelspec": {
   "display_name": "Python 3",
   "language": "python",
   "name": "python3"
  },
  "language_info": {
   "codemirror_mode": {
    "name": "ipython",
    "version": 3
   },
   "file_extension": ".py",
   "mimetype": "text/x-python",
   "name": "python",
   "nbconvert_exporter": "python",
   "pygments_lexer": "ipython3",
   "version": "3.11.9"
  }
 },
 "nbformat": 4,
 "nbformat_minor": 2
}
