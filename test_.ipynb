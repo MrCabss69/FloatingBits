{
 "cells": [
  {
   "cell_type": "code",
   "execution_count": 1,
   "metadata": {},
   "outputs": [
    {
     "ename": "ModuleNotFoundError",
     "evalue": "No module named 'floatingbits'",
     "output_type": "error",
     "traceback": [
      "\u001b[0;31m---------------------------------------------------------------------------\u001b[0m",
      "\u001b[0;31mModuleNotFoundError\u001b[0m                       Traceback (most recent call last)",
      "Cell \u001b[0;32mIn[1], line 1\u001b[0m\n\u001b[0;32m----> 1\u001b[0m \u001b[38;5;28;01mfrom\u001b[39;00m \u001b[38;5;21;01mfloatingbits\u001b[39;00m\u001b[38;5;21;01m.\u001b[39;00m\u001b[38;5;21;01mfixed_point\u001b[39;00m \u001b[38;5;28;01mimport\u001b[39;00m Pure, C1, C2\n\u001b[1;32m      3\u001b[0m \u001b[38;5;66;03m# Crear un número en formato C1\u001b[39;00m\n\u001b[1;32m      4\u001b[0m number \u001b[38;5;241m=\u001b[39m C1(bits_left\u001b[38;5;241m=\u001b[39m\u001b[38;5;241m3\u001b[39m, bits_right\u001b[38;5;241m=\u001b[39m\u001b[38;5;241m2\u001b[39m, number_representation\u001b[38;5;241m=\u001b[39m\u001b[38;5;124m'\u001b[39m\u001b[38;5;124m01010\u001b[39m\u001b[38;5;124m'\u001b[39m)\n",
      "\u001b[0;31mModuleNotFoundError\u001b[0m: No module named 'floatingbits'"
     ]
    }
   ],
   "source": [
    "from floatingbits.fixed_point import Pure, C1, C2\n",
    "\n",
    "# Crear un número en formato C1\n",
    "number = C1(bits_left=3, bits_right=2, number_representation='01010')\n",
    "\n",
    "# Obtener el valor decimal del número\n",
    "print(number.get_value())\n",
    "\n",
    "# Sumar dos números\n",
    "other_number = C1(bits_left=3, bits_right=2, number_representation='00101')\n",
    "result, overflow = number.add_(number, other_number)\n",
    "print(\"Resultado: \", result, \"Overflow: \", overflow)"
   ]
  }
 ],
 "metadata": {
  "kernelspec": {
   "display_name": "Python 3",
   "language": "python",
   "name": "python3"
  },
  "language_info": {
   "codemirror_mode": {
    "name": "ipython",
    "version": 3
   },
   "file_extension": ".py",
   "mimetype": "text/x-python",
   "name": "python",
   "nbconvert_exporter": "python",
   "pygments_lexer": "ipython3",
   "version": "3.11.9"
  }
 },
 "nbformat": 4,
 "nbformat_minor": 2
}
